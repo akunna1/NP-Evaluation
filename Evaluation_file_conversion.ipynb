{
 "cells": [
  {
   "cell_type": "markdown",
   "id": "cb84087a",
   "metadata": {},
   "source": [
    "# Neptune Technologies Job Application File Conversion"
   ]
  },
  {
   "cell_type": "markdown",
   "id": "c1cda8e6",
   "metadata": {},
   "source": [
    "##### Importing neccessary libraries"
   ]
  },
  {
   "cell_type": "code",
   "execution_count": 16,
   "id": "3fe582b8",
   "metadata": {},
   "outputs": [],
   "source": [
    "import os  # to perform tasks like reading file names from directories and managing file paths.\n",
    "import docx # for working with .docx files. It allows one to create, modify, and read MS word documents.\n",
    "import fitz # PyMuPDF, a Python bindings for the popular PDF rendering library MuPDF.\n",
    "import docx2txt  # specifically designed to extract text from MS Word .doc files and convert them into plain text format (usually .txt files)"
   ]
  },
  {
   "cell_type": "markdown",
   "id": "89507521",
   "metadata": {},
   "source": [
    "### Setting Directories and  Converting input files to .txt format"
   ]
  },
  {
   "cell_type": "code",
   "execution_count": 17,
   "id": "6d640b52",
   "metadata": {},
   "outputs": [],
   "source": [
    "# Defining the input and output file paths\n",
    "input_dir = \"C:\\\\Users\\\\akunna1\\\\Desktop\\\\Projects\\\\Project_3\\\\project_directory\\\\GC_Downloads\" # folder for all the downloads from GC\n",
    "output_dir = \"C:\\\\Users\\\\akunna1\\\\Desktop\\\\Projects\\\\Project_3\\\\project_directory\\\\GC_Downloads_txt\"  # GC_Downloads_txt folder"
   ]
  },
  {
   "cell_type": "code",
   "execution_count": 18,
   "id": "6c6c874d",
   "metadata": {},
   "outputs": [
    {
     "name": "stdout",
     "output_type": "stream",
     "text": [
      "Ignoring file: john_doe_form.txt (unsupported format)\n",
      "File conversions Completed!\n"
     ]
    }
   ],
   "source": [
    "# converting all the input CL and resume files from GC bucket to txt files for the Evaluation code\n",
    "# .txt form files will be copied and pasted into GC_Downloads_txt\n",
    "\n",
    "# Function to convert .docx to .txt\n",
    "def convert_docx_to_txt(docx_file, txt_file):\n",
    "    doc = docx.Document(docx_file)\n",
    "    with open(txt_file, \"w\", encoding=\"utf-8\") as txt:\n",
    "        for paragraph in doc.paragraphs:\n",
    "            txt.write(paragraph.text + \"\\n\")\n",
    "\n",
    "# Function to convert .pdf to .txt using fitz\n",
    "def convert_pdf_to_txt(pdf_file, txt_file):\n",
    "    pdf_document = fitz.open(pdf_file)\n",
    "    with open(txt_file, \"w\", encoding=\"utf-8\") as txt:\n",
    "        for page_num in range(pdf_document.page_count):\n",
    "            page = pdf_document.load_page(page_num)\n",
    "            text = page.get_text()\n",
    "            txt.write(text)\n",
    "\n",
    "# Function to convert .doc to .txt using docx2txt\n",
    "def convert_doc_to_txt(doc_file, txt_file):\n",
    "    text = docx2txt.process(doc_file)\n",
    "    with open(txt_file, \"w\", encoding=\"utf-8\") as txt:\n",
    "        txt.write(text)\n",
    "\n",
    "# Looping through the files in the input directory\n",
    "for filename in os.listdir(input_dir):\n",
    "    if filename.startswith(\"~$\"):\n",
    "        # Skip temporary files\n",
    "        continue\n",
    "    if filename.endswith(\".docx\"):\n",
    "        docx_file = os.path.join(input_dir, filename)\n",
    "        txt_file = os.path.join(output_dir, filename.replace(\".docx\", \".txt\"))\n",
    "        convert_docx_to_txt(docx_file, txt_file)\n",
    "    elif filename.endswith(\".pdf\"):\n",
    "        pdf_file = os.path.join(input_dir, filename)\n",
    "        txt_file = os.path.join(output_dir, filename.replace(\".pdf\", \".txt\"))\n",
    "        convert_pdf_to_txt(pdf_file, txt_file)\n",
    "    elif filename.endswith(\".doc\"):\n",
    "        doc_file = os.path.join(input_dir, filename)\n",
    "        txt_file = os.path.join(output_dir, filename.replace(\".doc\", \".txt\"))\n",
    "        convert_doc_to_txt(doc_file, txt_file)\n",
    "    else:\n",
    "        print(f\"Ignoring file: {filename} (unsupported format)\")\n",
    "\n",
    "# Printing the completion message\n",
    "print(\"File conversions Completed!\")"
   ]
  },
  {
   "cell_type": "code",
   "execution_count": null,
   "id": "1f9fa58e",
   "metadata": {},
   "outputs": [],
   "source": []
  },
  {
   "cell_type": "code",
   "execution_count": null,
   "id": "b4034505",
   "metadata": {},
   "outputs": [],
   "source": []
  },
  {
   "cell_type": "code",
   "execution_count": null,
   "id": "f845adc0",
   "metadata": {},
   "outputs": [],
   "source": []
  }
 ],
 "metadata": {
  "kernelspec": {
   "display_name": "Python 3 (ipykernel)",
   "language": "python",
   "name": "python3"
  },
  "language_info": {
   "codemirror_mode": {
    "name": "ipython",
    "version": 3
   },
   "file_extension": ".py",
   "mimetype": "text/x-python",
   "name": "python",
   "nbconvert_exporter": "python",
   "pygments_lexer": "ipython3",
   "version": "3.9.13"
  }
 },
 "nbformat": 4,
 "nbformat_minor": 5
}
